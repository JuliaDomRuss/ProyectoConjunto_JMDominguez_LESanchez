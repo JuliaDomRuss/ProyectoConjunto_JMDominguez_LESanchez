{
 "cells": [
  {
   "cell_type": "markdown",
   "id": "06e5c9ba",
   "metadata": {},
   "source": [
    "<img style=\"float: left; margin: 30px 15px 15px 15px;\" src=\"https://pngimage.net/wp-content/uploads/2018/06/logo-iteso-png-5.png\" width=\"300\" height=\"500\" /> \n",
    "    \n",
    "    \n",
    "### <font color='navy'> Simulación de procesos financieros. \n",
    "\n",
    "**Nombres:** Julia María Domínguez Russell y Luis Eduardo Sanchez Soto.\n",
    "\n",
    "**Fecha:** 23 de febrero del 2023.\n",
    "\n",
    "**Expediente** : 749767 - 734350 .\n",
    "**Profesor:** Oscar David Jaramillo Zuluaga.\n",
    "    \n",
    "**Link Github**: https://github.com/JuliaDomRuss/ProyectoConjunto_JMDominguez_LESanchez/blob/main/README.md\n",
    "\n",
    "# Tarea 3: Clase 6 - "
   ]
  },
  {
   "cell_type": "markdown",
   "id": "f5bb2caf",
   "metadata": {},
   "source": [
    "## Enunciado de tarea \n",
    "> Descripción de la tarea\n",
    "Usando compresión de listas o funciones map(sino recuerda como funciona observar el siguiente enlace https://www.pythonforbeginners.com/lists/list-comprehensions-in-python/), resolver los siguientes ejercicios:"
   ]
  },
  {
   "cell_type": "markdown",
   "id": "fb98a130",
   "metadata": {},
   "source": [
    "### Ejercicio 1: \n",
    "1. Resolver la siguiente ecuación recursiva usando funciones como se vió en clase\n",
    "$$ D_{n}=(n-1) D_{n-1}+(n-1) D_{n-2} \\quad n\\ge 3$$\n",
    "con $D_1=0$ y $D_2 = 1$"
   ]
  },
  {
   "cell_type": "markdown",
   "id": "5dbb9959",
   "metadata": {},
   "source": [
    "Código de solución estudiante 1"
   ]
  },
  {
   "cell_type": "code",
   "execution_count": 2,
   "id": "06606de0",
   "metadata": {},
   "outputs": [],
   "source": [
    "# Código de solución estudiante 1"
   ]
  },
  {
   "cell_type": "markdown",
   "id": "9b2c5e14",
   "metadata": {},
   "source": [
    "Código de solución estudiante 2"
   ]
  },
  {
   "cell_type": "code",
   "execution_count": 5,
   "id": "bfffca51",
   "metadata": {},
   "outputs": [
    {
     "data": {
      "text/plain": [
       "0.0"
      ]
     },
     "execution_count": 5,
     "metadata": {},
     "output_type": "execute_result"
    }
   ],
   "source": [
    "# Código de solución estudiante 2\n",
    "import numpy as np\n",
    "def D(n):\n",
    "    d = np.zeros(n)\n",
    "    d[0] = 0\n",
    "    d[1] = 1 \n",
    "    def vector(i):\n",
    "        nonlocal d\n",
    "        d[i-1] = (i-1)*(d[i-2]+d[i-3])\n",
    "    [vector(i) for i in range(3, n+1)]\n",
    "    return d[-1]\n",
    "D(5)"
   ]
  },
  {
   "cell_type": "markdown",
   "id": "c515a83c",
   "metadata": {},
   "source": [
    "### Ejercicio 2: \n",
    "2. Count the number of spaces in the following string `variable =  relaciónn  requiere,  para obtener  el  valor  de un  cierto  término,  el conocimiento de los dos anteriores`."
   ]
  },
  {
   "cell_type": "markdown",
   "id": "5282070e",
   "metadata": {},
   "source": [
    "Código de solución estudiante 1"
   ]
  },
  {
   "cell_type": "code",
   "execution_count": null,
   "id": "3bd998c7",
   "metadata": {},
   "outputs": [],
   "source": [
    "# Código de solución estudiante 1\n",
    ".\n",
    ".\n",
    ".\n",
    ".\n"
   ]
  },
  {
   "cell_type": "markdown",
   "id": "b7ebaf1f",
   "metadata": {},
   "source": [
    "Código de solución estudiante 2"
   ]
  },
  {
   "cell_type": "code",
   "execution_count": 10,
   "id": "525a8395",
   "metadata": {},
   "outputs": [
    {
     "data": {
      "text/plain": [
       "25"
      ]
     },
     "execution_count": 10,
     "metadata": {},
     "output_type": "execute_result"
    }
   ],
   "source": [
    "# Código de solución estudiante 2\n",
    "string = \"variable = relaciónn  requiere,  para obtener  el  valor  de un  cierto  término,  el conocimiento de los dos anteriores\" \n",
    "len(list(filter(lambda x: x==\" \",string)))"
   ]
  },
  {
   "cell_type": "markdown",
   "id": "100e7823",
   "metadata": {},
   "source": [
    "### Ejercicio 3: \n",
    "3. Remove all of the vowels in a string [make a list of the non-vowels]."
   ]
  },
  {
   "cell_type": "markdown",
   "id": "5a11928b",
   "metadata": {},
   "source": [
    "Código de solución estudiante 1"
   ]
  },
  {
   "cell_type": "code",
   "execution_count": null,
   "id": "db63963f",
   "metadata": {},
   "outputs": [],
   "source": [
    "# Código de solución estudiante 1\n",
    ".\n",
    ".\n",
    ".\n",
    ".\n"
   ]
  },
  {
   "cell_type": "markdown",
   "id": "18224809",
   "metadata": {},
   "source": [
    "Código de solución estudiante 2"
   ]
  },
  {
   "cell_type": "code",
   "execution_count": 14,
   "id": "436bbf1c",
   "metadata": {},
   "outputs": [
    {
     "data": {
      "text/plain": [
       "['v',\n",
       " 'r',\n",
       " 'b',\n",
       " 'l',\n",
       " ' ',\n",
       " '=',\n",
       " ' ',\n",
       " 'r',\n",
       " 'l',\n",
       " 'c',\n",
       " 'n',\n",
       " 'n',\n",
       " ' ',\n",
       " ' ',\n",
       " 'r',\n",
       " 'q',\n",
       " 'r',\n",
       " ',',\n",
       " ' ',\n",
       " ' ',\n",
       " 'p',\n",
       " 'r',\n",
       " ' ',\n",
       " 'b',\n",
       " 't',\n",
       " 'n',\n",
       " 'r',\n",
       " ' ',\n",
       " ' ',\n",
       " 'l',\n",
       " ' ',\n",
       " ' ',\n",
       " 'v',\n",
       " 'l',\n",
       " 'r',\n",
       " ' ',\n",
       " ' ',\n",
       " 'd',\n",
       " ' ',\n",
       " 'n',\n",
       " ' ',\n",
       " ' ',\n",
       " 'c',\n",
       " 'r',\n",
       " 't',\n",
       " ' ',\n",
       " ' ',\n",
       " 't',\n",
       " 'r',\n",
       " 'm',\n",
       " 'n',\n",
       " ',',\n",
       " ' ',\n",
       " ' ',\n",
       " 'l',\n",
       " ' ',\n",
       " 'c',\n",
       " 'n',\n",
       " 'c',\n",
       " 'm',\n",
       " 'n',\n",
       " 't',\n",
       " ' ',\n",
       " 'd',\n",
       " ' ',\n",
       " 'l',\n",
       " 's',\n",
       " ' ',\n",
       " 'd',\n",
       " 's',\n",
       " ' ',\n",
       " 'n',\n",
       " 't',\n",
       " 'r',\n",
       " 'r',\n",
       " 's']"
      ]
     },
     "execution_count": 14,
     "metadata": {},
     "output_type": "execute_result"
    }
   ],
   "source": [
    "# Código de solución estudiante 2\n",
    "vowels = ['a','e','i','o','u','á', 'é', 'í', 'ó', 'ú']\n",
    "list(filter(lambda x:x if not x in vowels else False,string))\n"
   ]
  },
  {
   "cell_type": "markdown",
   "id": "c082e255",
   "metadata": {},
   "source": [
    "### Ejercicio 4: \n",
    "4. Find all of the words in a string that are less than 4 letters."
   ]
  },
  {
   "cell_type": "markdown",
   "id": "49203fee",
   "metadata": {},
   "source": [
    "Código de solución estudiante 1"
   ]
  },
  {
   "cell_type": "code",
   "execution_count": null,
   "id": "7a2b9170",
   "metadata": {
    "scrolled": true
   },
   "outputs": [],
   "source": [
    "# Código de solución estudiante 1\n",
    ".\n",
    ".\n",
    ".\n",
    ".\n"
   ]
  },
  {
   "cell_type": "markdown",
   "id": "59874433",
   "metadata": {},
   "source": [
    "Código de solución estudiante 2"
   ]
  },
  {
   "cell_type": "code",
   "execution_count": null,
   "id": "9ce967d7",
   "metadata": {},
   "outputs": [],
   "source": [
    "# Código de solución estudiante 2\n",
    ".\n",
    ".\n",
    ".\n",
    ".\n"
   ]
  },
  {
   "cell_type": "markdown",
   "id": "9595b998",
   "metadata": {},
   "source": [
    "### Ejercicio 5: \n",
    "5. Use a dictionary comprehension to count the length of each word in a sentence."
   ]
  },
  {
   "cell_type": "markdown",
   "id": "f69f0d25",
   "metadata": {},
   "source": [
    "Código de solución estudiante 1"
   ]
  },
  {
   "cell_type": "code",
   "execution_count": null,
   "id": "6e3e1025",
   "metadata": {
    "scrolled": true
   },
   "outputs": [],
   "source": [
    "# Código de solución estudiante 1\n",
    ".\n",
    ".\n",
    ".\n",
    ".\n"
   ]
  },
  {
   "cell_type": "markdown",
   "id": "7169b532",
   "metadata": {},
   "source": [
    "Código de solución estudiante 2"
   ]
  },
  {
   "cell_type": "code",
   "execution_count": null,
   "id": "e4bb7e02",
   "metadata": {},
   "outputs": [],
   "source": [
    "# Código de solución estudiante 2\n",
    ".\n",
    ".\n",
    ".\n",
    ".\n"
   ]
  },
  {
   "cell_type": "markdown",
   "id": "7846d0ca",
   "metadata": {},
   "source": [
    "### Ejercicio 6: \n",
    "6. Use a nested list comprehension to find all of the numbers from 1-1000 that are divisible by any single digit besides 1 (2-9)."
   ]
  },
  {
   "cell_type": "markdown",
   "id": "412d8470",
   "metadata": {},
   "source": [
    "Código de solución estudiante 1"
   ]
  },
  {
   "cell_type": "code",
   "execution_count": null,
   "id": "5711fb2b",
   "metadata": {
    "scrolled": true
   },
   "outputs": [],
   "source": [
    "# Código de solución estudiante 1\n",
    ".\n",
    ".\n",
    ".\n",
    ".\n"
   ]
  },
  {
   "cell_type": "markdown",
   "id": "e6ad9f59",
   "metadata": {},
   "source": [
    "Código de solución estudiante 2"
   ]
  },
  {
   "cell_type": "code",
   "execution_count": null,
   "id": "978ab360",
   "metadata": {},
   "outputs": [],
   "source": [
    "# Código de solución estudiante 2\n",
    ".\n",
    ".\n",
    ".\n",
    ".\n"
   ]
  },
  {
   "cell_type": "code",
   "execution_count": null,
   "id": "b03fa37a",
   "metadata": {},
   "outputs": [],
   "source": []
  },
  {
   "cell_type": "code",
   "execution_count": null,
   "id": "8f8b781d",
   "metadata": {},
   "outputs": [],
   "source": []
  }
 ],
 "metadata": {
  "kernelspec": {
   "display_name": "Python 3 (ipykernel)",
   "language": "python",
   "name": "python3"
  },
  "language_info": {
   "codemirror_mode": {
    "name": "ipython",
    "version": 3
   },
   "file_extension": ".py",
   "mimetype": "text/x-python",
   "name": "python",
   "nbconvert_exporter": "python",
   "pygments_lexer": "ipython3",
   "version": "3.9.12"
  }
 },
 "nbformat": 4,
 "nbformat_minor": 5
}
